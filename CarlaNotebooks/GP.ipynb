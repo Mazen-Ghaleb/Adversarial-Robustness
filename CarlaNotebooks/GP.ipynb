{
 "cells": [
  {
   "cell_type": "code",
   "execution_count": 1,
   "id": "41cb2d81",
   "metadata": {},
   "outputs": [
    {
     "name": "stdout",
     "output_type": "stream",
     "text": [
      "Requirement already satisfied: carla==0.9.12 in c:\\users\\mazen\\anaconda3\\envs\\carlaenv\\lib\\site-packages (0.9.12)\n"
     ]
    }
   ],
   "source": [
    "!pip install carla==0.9.12"
   ]
  },
  {
   "cell_type": "code",
   "execution_count": 2,
   "id": "4cf0fb84",
   "metadata": {},
   "outputs": [],
   "source": [
    "import carla\n",
    "import math\n",
    "import random\n",
    "import time"
   ]
  },
  {
   "cell_type": "code",
   "execution_count": 3,
   "id": "07d55e8e",
   "metadata": {},
   "outputs": [],
   "source": [
    "client = carla.Client('localhost', 2000)\n",
    "world = client.get_world()"
   ]
  },
  {
   "cell_type": "code",
   "execution_count": 4,
   "id": "9ee7e71e",
   "metadata": {},
   "outputs": [
    {
     "name": "stdout",
     "output_type": "stream",
     "text": [
      "['/Game/Carla/Maps/Town01', '/Game/Carla/Maps/Town01_Opt', '/Game/Carla/Maps/Town02', '/Game/Carla/Maps/Town02_Opt', '/Game/Carla/Maps/Town03', '/Game/Carla/Maps/Town03_Opt', '/Game/Carla/Maps/Town04', '/Game/Carla/Maps/Town04_Opt', '/Game/Carla/Maps/Town05', '/Game/Carla/Maps/Town05_Opt', '/Game/Carla/Maps/Town10HD', '/Game/Carla/Maps/Town10HD_Opt']\n"
     ]
    }
   ],
   "source": [
    "print(client.get_available_maps())"
   ]
  },
  {
   "cell_type": "code",
   "execution_count": 17,
   "id": "9931fd33",
   "metadata": {},
   "outputs": [],
   "source": [
    "world = client.load_world('Town01_Opt')"
   ]
  },
  {
   "cell_type": "code",
   "execution_count": 6,
   "id": "f8f7fb91",
   "metadata": {},
   "outputs": [],
   "source": [
    "bp_lib = world.get_blueprint_library()\n",
    "spawn_points = world.get_map().get_spawn_points()"
   ]
  },
  {
   "cell_type": "code",
   "execution_count": 26,
   "id": "0510000d",
   "metadata": {},
   "outputs": [
    {
     "name": "stdout",
     "output_type": "stream",
     "text": [
      "Is CUDA supported by this system? False\n"
     ]
    }
   ],
   "source": [
    "import torch\n",
    "\n",
    "print(f\"Is CUDA supported by this system? {torch.cuda.is_available()}\")\n",
    "\n",
    "if (torch.cuda.is_available()):\n",
    "    print(f\"CUDA version: {torch.version.cuda}\")\n",
    "\n",
    "    # Storing ID of current CUDA device\n",
    "    cuda_id = torch.cuda.current_device()\n",
    "    print(f\"ID of current CUDA device:{torch.cuda.current_device()}\")\n",
    "\n",
    "    print(f\"Name of current CUDA device:{torch.cuda.get_device_name(cuda_id)}\")"
   ]
  },
  {
   "cell_type": "code",
   "execution_count": 16,
   "id": "6800124d",
   "metadata": {},
   "outputs": [],
   "source": [
    "for sign in world.get_actors().filter('traffic.speed_limit.90'):\n",
    "    sign.destroy()"
   ]
  },
  {
   "cell_type": "code",
   "execution_count": 11,
   "id": "2b177071",
   "metadata": {},
   "outputs": [
    {
     "data": {
      "text/plain": [
       "['__class__',\n",
       " '__delattr__',\n",
       " '__dict__',\n",
       " '__dir__',\n",
       " '__doc__',\n",
       " '__eq__',\n",
       " '__format__',\n",
       " '__ge__',\n",
       " '__getattribute__',\n",
       " '__gt__',\n",
       " '__hash__',\n",
       " '__init__',\n",
       " '__init_subclass__',\n",
       " '__le__',\n",
       " '__lt__',\n",
       " '__module__',\n",
       " '__ne__',\n",
       " '__new__',\n",
       " '__reduce__',\n",
       " '__reduce_ex__',\n",
       " '__repr__',\n",
       " '__setattr__',\n",
       " '__sizeof__',\n",
       " '__str__',\n",
       " '__subclasshook__',\n",
       " '__weakref__',\n",
       " 'actor_state',\n",
       " 'add_angular_impulse',\n",
       " 'add_force',\n",
       " 'add_impulse',\n",
       " 'add_torque',\n",
       " 'attributes',\n",
       " 'bounding_box',\n",
       " 'destroy',\n",
       " 'disable_constant_velocity',\n",
       " 'enable_constant_velocity',\n",
       " 'get_acceleration',\n",
       " 'get_angular_velocity',\n",
       " 'get_location',\n",
       " 'get_transform',\n",
       " 'get_velocity',\n",
       " 'get_world',\n",
       " 'id',\n",
       " 'is_active',\n",
       " 'is_alive',\n",
       " 'is_dormant',\n",
       " 'parent',\n",
       " 'semantic_tags',\n",
       " 'set_enable_gravity',\n",
       " 'set_location',\n",
       " 'set_simulate_physics',\n",
       " 'set_target_angular_velocity',\n",
       " 'set_target_velocity',\n",
       " 'set_transform',\n",
       " 'trigger_volume',\n",
       " 'type_id']"
      ]
     },
     "execution_count": 11,
     "metadata": {},
     "output_type": "execute_result"
    }
   ],
   "source": [
    "dir(world.get_actors().filter('traffic.speed_limit.90')[1])"
   ]
  },
  {
   "cell_type": "markdown",
   "id": "873e6df9",
   "metadata": {},
   "source": [
    "# Automatic Vehicle View"
   ]
  },
  {
   "cell_type": "code",
   "execution_count": 8,
   "id": "ac8f27ae",
   "metadata": {},
   "outputs": [],
   "source": [
    "vehicle_bp = bp_lib.find(\"vehicle.lincoln.mkz_2020\")\n",
    "vehicle = world.try_spawn_actor(vehicle_bp, random.choice(spawn_points))"
   ]
  },
  {
   "cell_type": "code",
   "execution_count": 15,
   "id": "8b79426a",
   "metadata": {},
   "outputs": [],
   "source": [
    "spectator = world.get_spectator()\n",
    "transform = carla.Transform(vehicle.get_transform().transform(carla.Location(x=-4,z=2.5)),vehicle.get_transform().rotation)\n",
    "# we need x = 0 for sign detection\n",
    "spectator.set_transform(transform)"
   ]
  },
  {
   "cell_type": "code",
   "execution_count": 7,
   "id": "d48e3f15",
   "metadata": {},
   "outputs": [],
   "source": [
    "for i in range(30):\n",
    "    vehicle_bp = random.choice(bp_lib.filter('vehicle'))\n",
    "    npc = world.try_spawn_actor(vehicle_bp, random.choice(spawn_points))"
   ]
  },
  {
   "cell_type": "code",
   "execution_count": 12,
   "id": "7bf6d493",
   "metadata": {},
   "outputs": [],
   "source": [
    "vehicle.set_autopilot(True)"
   ]
  },
  {
   "cell_type": "code",
   "execution_count": 29,
   "id": "6ec30998",
   "metadata": {},
   "outputs": [],
   "source": [
    "for v in world.get_actors().filter('*vehicle*'):\n",
    "    v.set_autopilot(True)"
   ]
  },
  {
   "cell_type": "code",
   "execution_count": 84,
   "id": "8eebf219",
   "metadata": {},
   "outputs": [],
   "source": [
    "## If want to destroy\n",
    "for v in world.get_actors().filter('*vehicle*'):\n",
    "    v.destroy()"
   ]
  },
  {
   "cell_type": "markdown",
   "id": "8f0865b6",
   "metadata": {},
   "source": [
    "# Walkers"
   ]
  },
  {
   "cell_type": "code",
   "execution_count": 11,
   "id": "967f1d68",
   "metadata": {},
   "outputs": [],
   "source": [
    "for i in range(30):\n",
    "    walker_bp = random.choice(bp_lib.filter('walker'))\n",
    "    world.try_spawn_actor(walker_bp, random.choice(spawn_points))"
   ]
  },
  {
   "cell_type": "markdown",
   "id": "87be32fd",
   "metadata": {},
   "source": [
    "# Camera stuff"
   ]
  },
  {
   "cell_type": "code",
   "execution_count": 12,
   "id": "f6495947",
   "metadata": {},
   "outputs": [],
   "source": [
    "camera_bp = bp_lib.find('sensor.camera.rgb')\n",
    "camera_init_trans = carla.Transform(carla.Location(x=0,z=2.5))\n",
    "camera = world.spawn_actor(camera_bp, camera_init_trans, attach_to=vehicle)"
   ]
  },
  {
   "cell_type": "code",
   "execution_count": 13,
   "id": "f7a18fa6",
   "metadata": {},
   "outputs": [],
   "source": [
    "camera.listen(lambda image: image.save_to_disk('out/%06d.png' % image.frame))\n"
   ]
  },
  {
   "cell_type": "code",
   "execution_count": 14,
   "id": "52bf0593",
   "metadata": {},
   "outputs": [],
   "source": [
    "camera.stop()"
   ]
  },
  {
   "cell_type": "markdown",
   "id": "165eed5e",
   "metadata": {},
   "source": [
    "# Testings"
   ]
  },
  {
   "cell_type": "code",
   "execution_count": 30,
   "id": "ca1561c1",
   "metadata": {},
   "outputs": [
    {
     "name": "stdout",
     "output_type": "stream",
     "text": [
      "['Actor', 'ActorAttribute', 'ActorAttributeType', 'ActorBlueprint', 'ActorList', 'ActorSnapshot', 'ActorState', 'AttachmentType', 'BlueprintLibrary', 'BoundingBox', 'CityObjectLabel', 'Client', 'ClientSideSensor', 'CollisionEvent', 'Color', 'ColorConverter', 'DVSEvent', 'DVSEventArray', 'DebugHelper', 'EnvironmentObject', 'FakeImage', 'GearPhysicsControl', 'GeoLocation', 'GnssMeasurement', 'IMUMeasurement', 'Image', 'Junction', 'LabelledPoint', 'Landmark', 'LandmarkOrientation', 'LandmarkType', 'LaneChange', 'LaneInvasionEvent', 'LaneInvasionSensor', 'LaneMarking', 'LaneMarkingColor', 'LaneMarkingType', 'LaneType', 'LidarDetection', 'LidarMeasurement', 'Light', 'LightGroup', 'LightManager', 'LightState', 'Location', 'Map', 'MapLayer', 'ObstacleDetectionEvent', 'OpendriveGenerationParameters', 'OpticalFlowImage', 'OpticalFlowPixel', 'Osm2Odr', 'Osm2OdrSettings', 'RadarDetection', 'RadarMeasurement', 'Rotation', 'SemanticLidarDetection', 'SemanticLidarMeasurement', 'Sensor', 'SensorData', 'ServerSideSensor', 'Timestamp', 'TrafficLight', 'TrafficLightState', 'TrafficManager', 'TrafficSign', 'Transform', 'Vector2D', 'Vector3D', 'Vehicle', 'VehicleControl', 'VehicleLightState', 'VehiclePhysicsControl', 'VehicleWheelLocation', 'Walker', 'WalkerAIController', 'WalkerBoneControl', 'WalkerControl', 'Waypoint', 'WeatherParameters', 'WheelPhysicsControl', 'World', 'WorldSettings', 'WorldSnapshot', '__builtins__', '__cached__', '__doc__', '__file__', '__loader__', '__name__', '__package__', '__path__', '__spec__', 'command', 'libcarla', 'vector_of_gears', 'vector_of_ints', 'vector_of_transform', 'vector_of_vector2D', 'vector_of_wheels']\n"
     ]
    }
   ],
   "source": [
    "print(dir(carla))"
   ]
  },
  {
   "cell_type": "code",
   "execution_count": 31,
   "id": "6a908e38",
   "metadata": {},
   "outputs": [
    {
     "name": "stdout",
     "output_type": "stream",
     "text": [
      "['__class__', '__delattr__', '__dict__', '__dir__', '__doc__', '__eq__', '__format__', '__ge__', '__getattribute__', '__gt__', '__hash__', '__init__', '__init_subclass__', '__iter__', '__le__', '__len__', '__lt__', '__module__', '__ne__', '__new__', '__reduce__', '__reduce_ex__', '__repr__', '__setattr__', '__sizeof__', '__str__', '__subclasshook__', '__weakref__', 'get_attribute', 'has_attribute', 'has_tag', 'id', 'match_tags', 'set_attribute', 'tags']\n"
     ]
    }
   ],
   "source": [
    "print(dir(bp_lib.find(\"vehicle.nissan.patrol_2021\")))"
   ]
  },
  {
   "cell_type": "code",
   "execution_count": 36,
   "id": "11e72658",
   "metadata": {},
   "outputs": [],
   "source": [
    "vec2 = world.get_actors()"
   ]
  },
  {
   "cell_type": "code",
   "execution_count": 37,
   "id": "618802f0",
   "metadata": {},
   "outputs": [
    {
     "name": "stdout",
     "output_type": "stream",
     "text": [
      "[Actor(id=1, type=spectator), Actor(id=2, type=traffic.stop), Actor(id=3, type=traffic.stop), Actor(id=4, type=traffic.stop), Actor(id=5, type=traffic.yield), Actor(id=6, type=traffic.unknown), Actor(id=7, type=traffic.unknown), Actor(id=72, type=vehicle.mini.cooper_s_2021), Actor(id=8, type=traffic.unknown), Actor(id=73, type=sensor.other.collision), Actor(id=9, type=traffic.traffic_light), Actor(id=74, type=sensor.other.lane_invasion), Actor(id=10, type=traffic.traffic_light), Actor(id=75, type=sensor.other.gnss), Actor(id=11, type=traffic.traffic_light), Actor(id=76, type=sensor.other.imu), Actor(id=12, type=traffic.traffic_light), Actor(id=77, type=sensor.camera.rgb), Actor(id=13, type=traffic.traffic_light), Actor(id=14, type=traffic.traffic_light), Actor(id=15, type=traffic.traffic_light), Actor(id=16, type=traffic.traffic_light), Actor(id=17, type=traffic.traffic_light), Actor(id=18, type=traffic.traffic_light), Actor(id=19, type=traffic.traffic_light), Actor(id=20, type=traffic.traffic_light), Actor(id=21, type=traffic.traffic_light), Actor(id=22, type=traffic.traffic_light), Actor(id=23, type=traffic.traffic_light)]\n"
     ]
    }
   ],
   "source": [
    "print(vec2)"
   ]
  },
  {
   "cell_type": "code",
   "execution_count": 23,
   "id": "9e4f04cd",
   "metadata": {},
   "outputs": [
    {
     "name": "stdout",
     "output_type": "stream",
     "text": [
      "['__class__', '__delattr__', '__dict__', '__dir__', '__doc__', '__eq__', '__format__', '__ge__', '__getattribute__', '__getitem__', '__gt__', '__hash__', '__init__', '__init_subclass__', '__iter__', '__le__', '__len__', '__lt__', '__module__', '__ne__', '__new__', '__reduce__', '__reduce_ex__', '__repr__', '__setattr__', '__sizeof__', '__str__', '__subclasshook__', '__weakref__', 'filter', 'find']\n"
     ]
    }
   ],
   "source": [
    "print(dir(vec2))"
   ]
  },
  {
   "cell_type": "code",
   "execution_count": 38,
   "id": "64a87c04",
   "metadata": {},
   "outputs": [
    {
     "name": "stdout",
     "output_type": "stream",
     "text": [
      "['__class__', '__delattr__', '__dict__', '__dir__', '__doc__', '__eq__', '__format__', '__ge__', '__getattribute__', '__gt__', '__hash__', '__init__', '__init_subclass__', '__le__', '__lt__', '__module__', '__ne__', '__new__', '__reduce__', '__reduce_ex__', '__repr__', '__setattr__', '__sizeof__', '__str__', '__subclasshook__', '__weakref__', 'actor_state', 'add_angular_impulse', 'add_force', 'add_impulse', 'add_torque', 'attributes', 'bounding_box', 'destroy', 'disable_constant_velocity', 'enable_constant_velocity', 'get_acceleration', 'get_angular_velocity', 'get_location', 'get_transform', 'get_velocity', 'get_world', 'id', 'is_active', 'is_alive', 'is_dormant', 'parent', 'semantic_tags', 'set_enable_gravity', 'set_location', 'set_simulate_physics', 'set_target_angular_velocity', 'set_target_velocity', 'set_transform', 'trigger_volume', 'type_id']\n"
     ]
    }
   ],
   "source": [
    "print(dir(vec2[8]))"
   ]
  },
  {
   "cell_type": "code",
   "execution_count": 63,
   "id": "95168af4",
   "metadata": {},
   "outputs": [
    {
     "name": "stdout",
     "output_type": "stream",
     "text": [
      "Vector3D(x=-16.609076, y=-0.116656, z=-0.048151) 59.79439805013903\n"
     ]
    }
   ],
   "source": [
    "v = vec2[7].get_velocity()\n",
    "v_magnitude = 3.6 * math.sqrt(v.x**2 + v.y**2 + v.z**2);\n",
    "print(v,v_magnitude)"
   ]
  },
  {
   "cell_type": "code",
   "execution_count": 46,
   "id": "75167e54",
   "metadata": {},
   "outputs": [
    {
     "name": "stdout",
     "output_type": "stream",
     "text": [
      "Vector3D(x=1.972452, y=4.576678, z=0.002487)\n"
     ]
    }
   ],
   "source": [
    "print(vec2[7].get_velocity())"
   ]
  },
  {
   "cell_type": "code",
   "execution_count": 191,
   "id": "ec6aeff1",
   "metadata": {},
   "outputs": [],
   "source": [
    "vec2[46].use_carsim_road(True)"
   ]
  },
  {
   "cell_type": "code",
   "execution_count": 211,
   "id": "2b1e7cf5",
   "metadata": {},
   "outputs": [],
   "source": [
    "vec2[46].set_target_velocity(carla.Vector3D(6,0,0))"
   ]
  },
  {
   "cell_type": "code",
   "execution_count": 164,
   "id": "5b0c9faa",
   "metadata": {},
   "outputs": [],
   "source": [
    "vec2[46].set_enable_gravity(False)"
   ]
  },
  {
   "cell_type": "code",
   "execution_count": 73,
   "id": "16f7d869",
   "metadata": {},
   "outputs": [
    {
     "name": "stdout",
     "output_type": "stream",
     "text": [
      "[Actor(id=191, type=spectator), Actor(id=192, type=traffic.traffic_light), Actor(id=193, type=traffic.traffic_light), Actor(id=194, type=traffic.traffic_light), Actor(id=195, type=traffic.traffic_light), Actor(id=196, type=traffic.traffic_light), Actor(id=197, type=traffic.traffic_light), Actor(id=198, type=traffic.traffic_light), Actor(id=199, type=traffic.traffic_light), Actor(id=200, type=traffic.traffic_light), Actor(id=201, type=traffic.traffic_light), Actor(id=202, type=traffic.traffic_light), Actor(id=203, type=traffic.traffic_light), Actor(id=204, type=traffic.traffic_light), Actor(id=205, type=traffic.traffic_light), Actor(id=206, type=traffic.traffic_light), Actor(id=207, type=traffic.traffic_light), Actor(id=208, type=traffic.traffic_light), Actor(id=209, type=traffic.traffic_light), Actor(id=210, type=traffic.traffic_light), Actor(id=211, type=traffic.traffic_light), Actor(id=212, type=traffic.traffic_light), Actor(id=213, type=traffic.traffic_light), Actor(id=214, type=traffic.traffic_light), Actor(id=215, type=traffic.traffic_light), Actor(id=216, type=traffic.speed_limit.90), Actor(id=217, type=traffic.speed_limit.90), Actor(id=218, type=traffic.speed_limit.60), Actor(id=219, type=traffic.speed_limit.60), Actor(id=220, type=traffic.speed_limit.60), Actor(id=221, type=traffic.speed_limit.60), Actor(id=222, type=traffic.speed_limit.60), Actor(id=223, type=traffic.speed_limit.60), Actor(id=224, type=traffic.speed_limit.60), Actor(id=225, type=traffic.speed_limit.30), Actor(id=226, type=traffic.speed_limit.30), Actor(id=227, type=traffic.speed_limit.30), Actor(id=228, type=traffic.speed_limit.30), Actor(id=229, type=traffic.speed_limit.30), Actor(id=230, type=traffic.speed_limit.30), Actor(id=231, type=traffic.speed_limit.30), Actor(id=232, type=traffic.speed_limit.30), Actor(id=233, type=traffic.speed_limit.30), Actor(id=234, type=traffic.speed_limit.30), Actor(id=235, type=traffic.speed_limit.30), Actor(id=236, type=traffic.speed_limit.30), Actor(id=237, type=vehicle.carlamotors.firetruck), Actor(id=238, type=sensor.other.collision), Actor(id=239, type=sensor.other.lane_invasion), Actor(id=240, type=sensor.other.gnss), Actor(id=241, type=sensor.other.imu), Actor(id=242, type=sensor.camera.rgb)]\n"
     ]
    }
   ],
   "source": [
    "print(world.get_actors())"
   ]
  },
  {
   "cell_type": "code",
   "execution_count": 78,
   "id": "fbdf587b",
   "metadata": {},
   "outputs": [
    {
     "name": "stdout",
     "output_type": "stream",
     "text": [
      "[Actor(id=216, type=traffic.speed_limit.90), Actor(id=217, type=traffic.speed_limit.90), Actor(id=218, type=traffic.speed_limit.60), Actor(id=219, type=traffic.speed_limit.60), Actor(id=220, type=traffic.speed_limit.60), Actor(id=221, type=traffic.speed_limit.60), Actor(id=222, type=traffic.speed_limit.60), Actor(id=223, type=traffic.speed_limit.60), Actor(id=224, type=traffic.speed_limit.60), Actor(id=225, type=traffic.speed_limit.30), Actor(id=226, type=traffic.speed_limit.30), Actor(id=227, type=traffic.speed_limit.30), Actor(id=228, type=traffic.speed_limit.30), Actor(id=229, type=traffic.speed_limit.30), Actor(id=230, type=traffic.speed_limit.30), Actor(id=231, type=traffic.speed_limit.30), Actor(id=232, type=traffic.speed_limit.30), Actor(id=233, type=traffic.speed_limit.30), Actor(id=234, type=traffic.speed_limit.30), Actor(id=235, type=traffic.speed_limit.30), Actor(id=236, type=traffic.speed_limit.30)]\n"
     ]
    }
   ],
   "source": [
    "print(world.get_actors().filter('traffic.speed_limit.*'))"
   ]
  },
  {
   "cell_type": "code",
   "execution_count": 80,
   "id": "157f45af",
   "metadata": {},
   "outputs": [],
   "source": [
    "speed_limits = world.get_actors().filter('traffic.speed_limit.*')"
   ]
  },
  {
   "cell_type": "code",
   "execution_count": 81,
   "id": "f884c158",
   "metadata": {},
   "outputs": [
    {
     "data": {
      "text/plain": [
       "21"
      ]
     },
     "execution_count": 81,
     "metadata": {},
     "output_type": "execute_result"
    }
   ],
   "source": [
    "len(speed_limits)"
   ]
  },
  {
   "cell_type": "code",
   "execution_count": null,
   "id": "c73a9651",
   "metadata": {},
   "outputs": [],
   "source": []
  },
  {
   "cell_type": "code",
   "execution_count": null,
   "id": "783b5de8",
   "metadata": {},
   "outputs": [],
   "source": [
    "# v = world.player.get_velocity()\n",
    "# v_magnitude = 3.6 * math.sqrt(v.x**2 + v.y**2 + v.z**2);\n",
    "# # trying to set speed to 1\n",
    "# world.player.set_target_velocity((1/v_magnitude)*v)\n",
    "# world.hud.notification(\"Override Speed: \"+(1/v_magnitude)*v) "
   ]
  },
  {
   "cell_type": "code",
   "execution_count": null,
   "id": "484baea3",
   "metadata": {},
   "outputs": [],
   "source": []
  }
 ],
 "metadata": {
  "kernelspec": {
   "display_name": "Python 3 (ipykernel)",
   "language": "python",
   "name": "python3"
  },
  "language_info": {
   "codemirror_mode": {
    "name": "ipython",
    "version": 3
   },
   "file_extension": ".py",
   "mimetype": "text/x-python",
   "name": "python",
   "nbconvert_exporter": "python",
   "pygments_lexer": "ipython3",
   "version": "3.7.9"
  }
 },
 "nbformat": 4,
 "nbformat_minor": 5
}
