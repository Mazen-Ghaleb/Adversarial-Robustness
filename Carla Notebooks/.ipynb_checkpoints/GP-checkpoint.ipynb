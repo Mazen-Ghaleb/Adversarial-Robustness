{
 "cells": [
  {
   "cell_type": "code",
   "execution_count": 172,
   "id": "41cb2d81",
   "metadata": {},
   "outputs": [
    {
     "name": "stdout",
     "output_type": "stream",
     "text": [
      "Requirement already satisfied: carla==0.9.12 in c:\\users\\mazen\\anaconda3\\envs\\carlaenv\\lib\\site-packages (0.9.12)\n"
     ]
    }
   ],
   "source": [
    "!pip install carla==0.9.12"
   ]
  },
  {
   "cell_type": "code",
   "execution_count": 173,
   "id": "4cf0fb84",
   "metadata": {},
   "outputs": [],
   "source": [
    "import carla\n",
    "import math\n",
    "import random\n",
    "import time"
   ]
  },
  {
   "cell_type": "code",
   "execution_count": 174,
   "id": "07d55e8e",
   "metadata": {},
   "outputs": [],
   "source": [
    "client = carla.Client('localhost', 2000)\n",
    "world = client.get_world()"
   ]
  },
  {
   "cell_type": "code",
   "execution_count": 175,
   "id": "9ee7e71e",
   "metadata": {},
   "outputs": [
    {
     "name": "stdout",
     "output_type": "stream",
     "text": [
      "['/Game/Carla/Maps/Town01', '/Game/Carla/Maps/Town01_Opt', '/Game/Carla/Maps/Town02', '/Game/Carla/Maps/Town02_Opt', '/Game/Carla/Maps/Town03', '/Game/Carla/Maps/Town03_Opt', '/Game/Carla/Maps/Town04', '/Game/Carla/Maps/Town04_Opt', '/Game/Carla/Maps/Town05', '/Game/Carla/Maps/Town05_Opt', '/Game/Carla/Maps/Town10HD', '/Game/Carla/Maps/Town10HD_Opt']\n"
     ]
    }
   ],
   "source": [
    "print(client.get_available_maps())"
   ]
  },
  {
   "cell_type": "code",
   "execution_count": 176,
   "id": "9931fd33",
   "metadata": {},
   "outputs": [],
   "source": [
    "world = client.load_world('Town02_Opt')"
   ]
  },
  {
   "cell_type": "code",
   "execution_count": 177,
   "id": "f8f7fb91",
   "metadata": {},
   "outputs": [],
   "source": [
    "bp_lib = world.get_blueprint_library()\n",
    "spawn_points = world.get_map().get_spawn_points()"
   ]
  },
  {
   "cell_type": "markdown",
   "id": "165eed5e",
   "metadata": {},
   "source": [
    "# Testing Vehicle"
   ]
  },
  {
   "cell_type": "code",
   "execution_count": 178,
   "id": "ca1561c1",
   "metadata": {},
   "outputs": [
    {
     "name": "stdout",
     "output_type": "stream",
     "text": [
      "['Actor', 'ActorAttribute', 'ActorAttributeType', 'ActorBlueprint', 'ActorList', 'ActorSnapshot', 'ActorState', 'AttachmentType', 'BlueprintLibrary', 'BoundingBox', 'CityObjectLabel', 'Client', 'ClientSideSensor', 'CollisionEvent', 'Color', 'ColorConverter', 'DVSEvent', 'DVSEventArray', 'DebugHelper', 'EnvironmentObject', 'FakeImage', 'GearPhysicsControl', 'GeoLocation', 'GnssMeasurement', 'IMUMeasurement', 'Image', 'Junction', 'LabelledPoint', 'Landmark', 'LandmarkOrientation', 'LandmarkType', 'LaneChange', 'LaneInvasionEvent', 'LaneInvasionSensor', 'LaneMarking', 'LaneMarkingColor', 'LaneMarkingType', 'LaneType', 'LidarDetection', 'LidarMeasurement', 'Light', 'LightGroup', 'LightManager', 'LightState', 'Location', 'Map', 'MapLayer', 'ObstacleDetectionEvent', 'OpendriveGenerationParameters', 'OpticalFlowImage', 'OpticalFlowPixel', 'Osm2Odr', 'Osm2OdrSettings', 'RadarDetection', 'RadarMeasurement', 'Rotation', 'SemanticLidarDetection', 'SemanticLidarMeasurement', 'Sensor', 'SensorData', 'ServerSideSensor', 'Timestamp', 'TrafficLight', 'TrafficLightState', 'TrafficManager', 'TrafficSign', 'Transform', 'Vector2D', 'Vector3D', 'Vehicle', 'VehicleControl', 'VehicleLightState', 'VehiclePhysicsControl', 'VehicleWheelLocation', 'Walker', 'WalkerAIController', 'WalkerBoneControl', 'WalkerControl', 'Waypoint', 'WeatherParameters', 'WheelPhysicsControl', 'World', 'WorldSettings', 'WorldSnapshot', '__builtins__', '__cached__', '__doc__', '__file__', '__loader__', '__name__', '__package__', '__path__', '__spec__', 'command', 'libcarla', 'vector_of_gears', 'vector_of_ints', 'vector_of_transform', 'vector_of_vector2D', 'vector_of_wheels']\n"
     ]
    }
   ],
   "source": [
    "print(dir(carla))"
   ]
  },
  {
   "cell_type": "code",
   "execution_count": 213,
   "id": "6a908e38",
   "metadata": {},
   "outputs": [
    {
     "name": "stdout",
     "output_type": "stream",
     "text": [
      "['__class__', '__delattr__', '__dict__', '__dir__', '__doc__', '__eq__', '__format__', '__ge__', '__getattribute__', '__gt__', '__hash__', '__init__', '__init_subclass__', '__iter__', '__le__', '__len__', '__lt__', '__module__', '__ne__', '__new__', '__reduce__', '__reduce_ex__', '__repr__', '__setattr__', '__sizeof__', '__str__', '__subclasshook__', '__weakref__', 'get_attribute', 'has_attribute', 'has_tag', 'id', 'match_tags', 'set_attribute', 'tags']\n"
     ]
    }
   ],
   "source": [
    "print(dir(bp_lib.find(\"vehicle.nissan.patrol_2021\")))"
   ]
  },
  {
   "cell_type": "code",
   "execution_count": 179,
   "id": "11e72658",
   "metadata": {},
   "outputs": [],
   "source": [
    "vec2 = world.get_actors()"
   ]
  },
  {
   "cell_type": "code",
   "execution_count": 180,
   "id": "618802f0",
   "metadata": {},
   "outputs": [
    {
     "name": "stdout",
     "output_type": "stream",
     "text": [
      "[Actor(id=24, type=spectator), Actor(id=25, type=traffic.traffic_light), Actor(id=26, type=traffic.traffic_light), Actor(id=27, type=traffic.traffic_light), Actor(id=28, type=traffic.traffic_light), Actor(id=29, type=traffic.traffic_light), Actor(id=30, type=traffic.traffic_light), Actor(id=31, type=traffic.traffic_light), Actor(id=32, type=traffic.traffic_light), Actor(id=33, type=traffic.traffic_light), Actor(id=34, type=traffic.traffic_light), Actor(id=35, type=traffic.traffic_light), Actor(id=36, type=traffic.traffic_light), Actor(id=37, type=traffic.traffic_light), Actor(id=38, type=traffic.traffic_light), Actor(id=39, type=traffic.traffic_light), Actor(id=40, type=traffic.traffic_light), Actor(id=41, type=traffic.traffic_light), Actor(id=42, type=traffic.traffic_light), Actor(id=43, type=traffic.traffic_light), Actor(id=44, type=traffic.traffic_light), Actor(id=45, type=traffic.traffic_light), Actor(id=46, type=traffic.traffic_light), Actor(id=47, type=traffic.traffic_light), Actor(id=48, type=traffic.traffic_light), Actor(id=49, type=traffic.speed_limit.90), Actor(id=50, type=traffic.speed_limit.90), Actor(id=51, type=traffic.speed_limit.60), Actor(id=52, type=traffic.speed_limit.60), Actor(id=53, type=traffic.speed_limit.60), Actor(id=54, type=traffic.speed_limit.60), Actor(id=55, type=traffic.speed_limit.60), Actor(id=56, type=traffic.speed_limit.60), Actor(id=57, type=traffic.speed_limit.60), Actor(id=58, type=traffic.speed_limit.30), Actor(id=59, type=traffic.speed_limit.30), Actor(id=60, type=traffic.speed_limit.30), Actor(id=61, type=traffic.speed_limit.30), Actor(id=62, type=traffic.speed_limit.30), Actor(id=63, type=traffic.speed_limit.30), Actor(id=64, type=traffic.speed_limit.30), Actor(id=65, type=traffic.speed_limit.30), Actor(id=66, type=traffic.speed_limit.30), Actor(id=67, type=traffic.speed_limit.30), Actor(id=68, type=traffic.speed_limit.30), Actor(id=69, type=traffic.speed_limit.30), Actor(id=70, type=vehicle.nissan.patrol_2021), Actor(id=71, type=sensor.other.collision), Actor(id=72, type=sensor.other.lane_invasion), Actor(id=73, type=sensor.other.gnss), Actor(id=74, type=sensor.other.imu), Actor(id=75, type=sensor.camera.rgb)]\n"
     ]
    }
   ],
   "source": [
    "print(vec2)"
   ]
  },
  {
   "cell_type": "code",
   "execution_count": 181,
   "id": "9e4f04cd",
   "metadata": {},
   "outputs": [
    {
     "name": "stdout",
     "output_type": "stream",
     "text": [
      "['__class__', '__delattr__', '__dict__', '__dir__', '__doc__', '__eq__', '__format__', '__ge__', '__getattribute__', '__getitem__', '__gt__', '__hash__', '__init__', '__init_subclass__', '__iter__', '__le__', '__len__', '__lt__', '__module__', '__ne__', '__new__', '__reduce__', '__reduce_ex__', '__repr__', '__setattr__', '__sizeof__', '__str__', '__subclasshook__', '__weakref__', 'filter', 'find']\n"
     ]
    }
   ],
   "source": [
    "print(dir(vec2))"
   ]
  },
  {
   "cell_type": "code",
   "execution_count": 182,
   "id": "64a87c04",
   "metadata": {},
   "outputs": [
    {
     "name": "stdout",
     "output_type": "stream",
     "text": [
      "['__class__', '__delattr__', '__dict__', '__dir__', '__doc__', '__eq__', '__format__', '__ge__', '__getattribute__', '__gt__', '__hash__', '__init__', '__init_subclass__', '__le__', '__lt__', '__module__', '__ne__', '__new__', '__reduce__', '__reduce_ex__', '__repr__', '__setattr__', '__sizeof__', '__str__', '__subclasshook__', '__weakref__', 'actor_state', 'add_angular_impulse', 'add_force', 'add_impulse', 'add_torque', 'apply_control', 'apply_physics_control', 'attributes', 'bounding_box', 'destroy', 'disable_constant_velocity', 'enable_carsim', 'enable_chrono_physics', 'enable_constant_velocity', 'get_acceleration', 'get_angular_velocity', 'get_control', 'get_light_state', 'get_location', 'get_physics_control', 'get_speed_limit', 'get_traffic_light', 'get_traffic_light_state', 'get_transform', 'get_velocity', 'get_wheel_steer_angle', 'get_world', 'id', 'is_active', 'is_alive', 'is_at_traffic_light', 'is_dormant', 'parent', 'semantic_tags', 'set_autopilot', 'set_enable_gravity', 'set_light_state', 'set_location', 'set_simulate_physics', 'set_target_angular_velocity', 'set_target_velocity', 'set_transform', 'set_wheel_steer_direction', 'show_debug_telemetry', 'type_id', 'use_carsim_road']\n"
     ]
    }
   ],
   "source": [
    "print(dir(vec2[46]))"
   ]
  },
  {
   "cell_type": "code",
   "execution_count": 183,
   "id": "75167e54",
   "metadata": {},
   "outputs": [
    {
     "name": "stdout",
     "output_type": "stream",
     "text": [
      "Vector3D(x=0.000000, y=0.000000, z=0.000000)\n"
     ]
    }
   ],
   "source": [
    "print(vec2[46].get_velocity())"
   ]
  },
  {
   "cell_type": "code",
   "execution_count": 191,
   "id": "ec6aeff1",
   "metadata": {},
   "outputs": [],
   "source": [
    "vec2[46].use_carsim_road(True)"
   ]
  },
  {
   "cell_type": "code",
   "execution_count": 211,
   "id": "2b1e7cf5",
   "metadata": {},
   "outputs": [],
   "source": [
    "vec2[46].set_target_velocity(carla.Vector3D(6,0,0))"
   ]
  },
  {
   "cell_type": "code",
   "execution_count": 164,
   "id": "5b0c9faa",
   "metadata": {},
   "outputs": [],
   "source": [
    "vec2[46].set_enable_gravity(False)"
   ]
  },
  {
   "cell_type": "markdown",
   "id": "873e6df9",
   "metadata": {},
   "source": [
    "# Automatic Vehicle View"
   ]
  },
  {
   "cell_type": "code",
   "execution_count": 14,
   "id": "46f3f8ac",
   "metadata": {},
   "outputs": [],
   "source": [
    "vehicle_bp = bp_lib.find(\"vehicle.lincoln.mkz_2020\")\n",
    "vehicle = world.try_spawn_actor(vehicle_bp, random.choice(spawn_points))"
   ]
  },
  {
   "cell_type": "code",
   "execution_count": 18,
   "id": "e1248183",
   "metadata": {},
   "outputs": [],
   "source": [
    "spectator = world.get_spectator()\n",
    "transform = carla.Transform(vehicle.get_transform().transform(carla.Location(x=-4,z=2.5)),vehicle.get_transform().rotation)\n",
    "# we need x = 0 for sign detection\n",
    "spectator.set_transform(transform)"
   ]
  },
  {
   "cell_type": "code",
   "execution_count": 19,
   "id": "62fcd5e6",
   "metadata": {},
   "outputs": [],
   "source": [
    "for i in range(30):\n",
    "    vehicle_bp = random.choice(bp_lib.filter('vehicle'))\n",
    "    npc = world.try_spawn_actor(vehicle_bp, random.choice(spawn_points))"
   ]
  },
  {
   "cell_type": "code",
   "execution_count": 12,
   "id": "bc36e185",
   "metadata": {},
   "outputs": [],
   "source": [
    "vehicle.set_autopilot(True)"
   ]
  },
  {
   "cell_type": "code",
   "execution_count": 29,
   "id": "c27d7855",
   "metadata": {},
   "outputs": [],
   "source": [
    "for v in world.get_actors().filter('*vehicle*'):\n",
    "    v.set_autopilot(True)"
   ]
  },
  {
   "cell_type": "code",
   "execution_count": 13,
   "id": "7a6c0e94",
   "metadata": {},
   "outputs": [],
   "source": [
    "## If want to destroy\n",
    "for v in world.get_actors().filter('*vehicle*'):\n",
    "    v.destroy()"
   ]
  },
  {
   "cell_type": "markdown",
   "id": "6942172d",
   "metadata": {},
   "source": [
    "# Walkers"
   ]
  },
  {
   "cell_type": "code",
   "execution_count": 11,
   "id": "d3ebe606",
   "metadata": {},
   "outputs": [],
   "source": [
    "for i in range(30):\n",
    "    walker_bp = random.choice(bp_lib.filter('walker'))\n",
    "    world.try_spawn_actor(walker_bp, random.choice(spawn_points))"
   ]
  },
  {
   "cell_type": "markdown",
   "id": "6d117196",
   "metadata": {},
   "source": [
    "# Camera stuff"
   ]
  },
  {
   "cell_type": "code",
   "execution_count": 12,
   "id": "9dae70fb",
   "metadata": {},
   "outputs": [],
   "source": [
    "camera_bp = bp_lib.find('sensor.camera.rgb')\n",
    "camera_init_trans = carla.Transform(carla.Location(z=2))\n",
    "camera = world.spawn_actor(camera_bp, camera_init_trans, attach_to=vehicle)"
   ]
  },
  {
   "cell_type": "code",
   "execution_count": 13,
   "id": "3d19ad30",
   "metadata": {},
   "outputs": [],
   "source": [
    "camera.listen(lambda image: image.save_to_disk('out/%06d.png' % image.frame))\n"
   ]
  },
  {
   "cell_type": "code",
   "execution_count": 14,
   "id": "b86f7ffe",
   "metadata": {},
   "outputs": [],
   "source": [
    "camera.stop()"
   ]
  }
 ],
 "metadata": {
  "kernelspec": {
   "display_name": "Python 3 (ipykernel)",
   "language": "python",
   "name": "python3"
  },
  "language_info": {
   "codemirror_mode": {
    "name": "ipython",
    "version": 3
   },
   "file_extension": ".py",
   "mimetype": "text/x-python",
   "name": "python",
   "nbconvert_exporter": "python",
   "pygments_lexer": "ipython3",
   "version": "3.7.9"
  }
 },
 "nbformat": 4,
 "nbformat_minor": 5
}
