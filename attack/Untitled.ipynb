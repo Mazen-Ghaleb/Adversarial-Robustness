{
 "cells": [
  {
   "cell_type": "code",
   "execution_count": 3,
   "id": "aa9473ea",
   "metadata": {},
   "outputs": [],
   "source": [
    "from attack import fgsm, it_fgsm\n",
    "from helper_functions import read_img\n",
    "from yolox_model import YoloxModel\n",
    "from Inference import detect_sign"
   ]
  },
  {
   "cell_type": "code",
   "execution_count": 4,
   "id": "ff6626db",
   "metadata": {},
   "outputs": [],
   "source": [
    "model = YoloxModel('../Carla Scripts/yolox_s.onnx')"
   ]
  },
  {
   "cell_type": "code",
   "execution_count": 5,
   "id": "28d5ec89",
   "metadata": {},
   "outputs": [],
   "source": [
    "\n",
    "img_path = \"./00240.ppm\"\n",
    "img = read_img(img_path)"
   ]
  },
  {
   "cell_type": "code",
   "execution_count": 6,
   "id": "7f619c6f",
   "metadata": {},
   "outputs": [
    {
     "data": {
      "text/plain": [
       "(30.0, 0.9245821237564087)"
      ]
     },
     "execution_count": 6,
     "metadata": {},
     "output_type": "execute_result"
    }
   ],
   "source": [
    "detect_sign(img, \"../Carla Scripts/yolox_s.onnx\")"
   ]
  },
  {
   "cell_type": "code",
   "execution_count": 7,
   "id": "b6d2a3b7",
   "metadata": {},
   "outputs": [
    {
     "data": {
      "text/plain": [
       "(50.0, 0.4281291961669922)"
      ]
     },
     "execution_count": 7,
     "metadata": {},
     "output_type": "execute_result"
    }
   ],
   "source": [
    "perturbed_img = fgsm(model, img, eps=1)\n",
    "perturbed_img= perturbed_img.detach().numpy().transpose(1, 2, 0)\n",
    "detect_sign(perturbed_img, \"../Carla Scripts/yolox_s.onnx\")"
   ]
  },
  {
   "cell_type": "code",
   "execution_count": 9,
   "id": "0693e790",
   "metadata": {},
   "outputs": [
    {
     "data": {
      "text/plain": [
       "(100.0, 0.20872607827186584)"
      ]
     },
     "execution_count": 9,
     "metadata": {},
     "output_type": "execute_result"
    }
   ],
   "source": [
    "perturbed_img = it_fgsm(model, img, eps=4)\n",
    "perturbed_img= perturbed_img.detach().numpy().transpose(1, 2, 0)\n",
    "detect_sign(perturbed_img, \"../Carla Scripts/yolox_s.onnx\")"
   ]
  }
 ],
 "metadata": {
  "kernelspec": {
   "display_name": "Python 3.10.6 ('adversarial-robustness')",
   "language": "python",
   "name": "python3"
  },
  "language_info": {
   "codemirror_mode": {
    "name": "ipython",
    "version": 3
   },
   "file_extension": ".py",
   "mimetype": "text/x-python",
   "name": "python",
   "nbconvert_exporter": "python",
   "pygments_lexer": "ipython3",
   "version": "3.10.6"
  },
  "vscode": {
   "interpreter": {
    "hash": "88c509b39e0c3a3e2f67732870b552119c44df693a8bf62913bddb3d382563a4"
   }
  }
 },
 "nbformat": 4,
 "nbformat_minor": 5
}
