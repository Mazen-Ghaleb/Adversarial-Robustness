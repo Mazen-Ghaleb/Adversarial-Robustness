{
 "cells": [
  {
   "cell_type": "code",
   "execution_count": 7,
   "id": "aa9473ea",
   "metadata": {},
   "outputs": [],
   "source": [
    "from fast_attacks import fgsm, it_fgsm\n",
    "from helper_functions import read_img\n",
    "from yolox_model import YoloxModel\n",
    "from Inference import detect_sign\n",
    "from helper_functions import preprocess, load_preprocess_imgs\n",
    "from tqdm import tqdm\n",
    "from glob import glob\n",
    "import torch\n",
    "import pandas as pd\n",
    "from tuning import run_fgsm\n",
    "import numpy as np"
   ]
  },
  {
   "cell_type": "code",
   "execution_count": 8,
   "id": "ff6626db",
   "metadata": {},
   "outputs": [
    {
     "name": "stderr",
     "output_type": "stream",
     "text": [
      "100%|██████████| 316/316 [00:04<00:00, 75.65it/s]\n"
     ]
    }
   ],
   "source": [
    "cuda  = torch.cuda.is_available()\n",
    "model_path = '../Carla Scripts/yolox_s.onnx'\n",
    "image_paths = glob(\"../datasets/full/images/*\")\n",
    "imgs, r = load_preprocess_imgs(image_paths)"
   ]
  },
  {
   "cell_type": "code",
   "execution_count": null,
   "id": "dc25096e",
   "metadata": {},
   "outputs": [],
   "source": []
  },
  {
   "cell_type": "code",
   "execution_count": 3,
   "id": "227559df",
   "metadata": {},
   "outputs": [],
   "source": [
    "from tuning import get_model_results\n",
    "predictions, scores = get_model_results(imgs, model_path, r)\n",
    "df = pd.DataFrame({'benign_predictions': predictions, 'benign_scores':scores})"
   ]
  },
  {
   "cell_type": "code",
   "execution_count": 4,
   "id": "f12424b2",
   "metadata": {},
   "outputs": [
    {
     "data": {
      "text/html": [
       "<div>\n",
       "<style scoped>\n",
       "    .dataframe tbody tr th:only-of-type {\n",
       "        vertical-align: middle;\n",
       "    }\n",
       "\n",
       "    .dataframe tbody tr th {\n",
       "        vertical-align: top;\n",
       "    }\n",
       "\n",
       "    .dataframe thead th {\n",
       "        text-align: right;\n",
       "    }\n",
       "</style>\n",
       "<table border=\"1\" class=\"dataframe\">\n",
       "  <thead>\n",
       "    <tr style=\"text-align: right;\">\n",
       "      <th></th>\n",
       "      <th>benign_predictions</th>\n",
       "      <th>benign_scores</th>\n",
       "    </tr>\n",
       "  </thead>\n",
       "  <tbody>\n",
       "    <tr>\n",
       "      <th>0</th>\n",
       "      <td>70.0</td>\n",
       "      <td>0.886962</td>\n",
       "    </tr>\n",
       "    <tr>\n",
       "      <th>1</th>\n",
       "      <td>50.0</td>\n",
       "      <td>0.939282</td>\n",
       "    </tr>\n",
       "    <tr>\n",
       "      <th>2</th>\n",
       "      <td>50.0</td>\n",
       "      <td>0.942936</td>\n",
       "    </tr>\n",
       "    <tr>\n",
       "      <th>3</th>\n",
       "      <td>50.0</td>\n",
       "      <td>0.910851</td>\n",
       "    </tr>\n",
       "    <tr>\n",
       "      <th>4</th>\n",
       "      <td>50.0</td>\n",
       "      <td>0.687077</td>\n",
       "    </tr>\n",
       "    <tr>\n",
       "      <th>...</th>\n",
       "      <td>...</td>\n",
       "      <td>...</td>\n",
       "    </tr>\n",
       "    <tr>\n",
       "      <th>311</th>\n",
       "      <td>70.0</td>\n",
       "      <td>0.875543</td>\n",
       "    </tr>\n",
       "    <tr>\n",
       "      <th>312</th>\n",
       "      <td>70.0</td>\n",
       "      <td>0.904795</td>\n",
       "    </tr>\n",
       "    <tr>\n",
       "      <th>313</th>\n",
       "      <td>70.0</td>\n",
       "      <td>0.932074</td>\n",
       "    </tr>\n",
       "    <tr>\n",
       "      <th>314</th>\n",
       "      <td>70.0</td>\n",
       "      <td>0.951367</td>\n",
       "    </tr>\n",
       "    <tr>\n",
       "      <th>315</th>\n",
       "      <td>70.0</td>\n",
       "      <td>0.924884</td>\n",
       "    </tr>\n",
       "  </tbody>\n",
       "</table>\n",
       "<p>316 rows × 2 columns</p>\n",
       "</div>"
      ],
      "text/plain": [
       "     benign_predictions  benign_scores\n",
       "0                  70.0       0.886962\n",
       "1                  50.0       0.939282\n",
       "2                  50.0       0.942936\n",
       "3                  50.0       0.910851\n",
       "4                  50.0       0.687077\n",
       "..                  ...            ...\n",
       "311                70.0       0.875543\n",
       "312                70.0       0.904795\n",
       "313                70.0       0.932074\n",
       "314                70.0       0.951367\n",
       "315                70.0       0.924884\n",
       "\n",
       "[316 rows x 2 columns]"
      ]
     },
     "execution_count": 4,
     "metadata": {},
     "output_type": "execute_result"
    }
   ],
   "source": [
    "df"
   ]
  },
  {
   "cell_type": "code",
   "execution_count": 6,
   "id": "17ff280a",
   "metadata": {},
   "outputs": [
    {
     "name": "stderr",
     "output_type": "stream",
     "text": [
      "100%|██████████| 316/316 [09:45<00:00,  1.85s/it]\n"
     ]
    },
    {
     "ename": "KeyboardInterrupt",
     "evalue": "",
     "output_type": "error",
     "traceback": [
      "\u001b[0;31m---------------------------------------------------------------------------\u001b[0m",
      "\u001b[0;31mKeyboardInterrupt\u001b[0m                         Traceback (most recent call last)",
      "\u001b[1;32m/mnt/windows/College/Graduation Project/Adversarial-Robustness/attack/Untitled.ipynb Cell 5\u001b[0m in \u001b[0;36m<cell line: 2>\u001b[0;34m()\u001b[0m\n\u001b[1;32m      <a href='vscode-notebook-cell:/mnt/windows/College/Graduation%20Project/Adversarial-Robustness/attack/Untitled.ipynb#X10sZmlsZQ%3D%3D?line=0'>1</a>\u001b[0m \u001b[39mfrom\u001b[39;00m \u001b[39mtuning\u001b[39;00m \u001b[39mimport\u001b[39;00m tune_hyperparameters\n\u001b[0;32m----> <a href='vscode-notebook-cell:/mnt/windows/College/Graduation%20Project/Adversarial-Robustness/attack/Untitled.ipynb#X10sZmlsZQ%3D%3D?line=1'>2</a>\u001b[0m res \u001b[39m=\u001b[39m tune_hyperparameters(run_fgsm, model_path, np\u001b[39m.\u001b[39;49masarray(imgs), df, r)\n",
      "File \u001b[0;32m/mnt/windows/College/Graduation Project/Adversarial-Robustness/attack/tuning.py:67\u001b[0m, in \u001b[0;36mtune_hyperparameters\u001b[0;34m(fun, model, imgs, original_imgs_df, ratio, cuda)\u001b[0m\n\u001b[1;32m     61\u001b[0m torch_model \u001b[39m=\u001b[39m YoloxModel(\n\u001b[1;32m     62\u001b[0m     model,\n\u001b[1;32m     63\u001b[0m     obj_threshold\u001b[39m=\u001b[39mobj_threshold,\n\u001b[1;32m     64\u001b[0m     cls_threshold\u001b[39m=\u001b[39mcls_threshold,\n\u001b[1;32m     65\u001b[0m )\n\u001b[1;32m     66\u001b[0m perturbed_imgs \u001b[39m=\u001b[39m fun(torch_model, imgs, cuda\u001b[39m=\u001b[39mcuda)\n\u001b[0;32m---> 67\u001b[0m predictions, scores \u001b[39m=\u001b[39m get_model_results(perturbed_imgs, model, ratio)\n\u001b[1;32m     68\u001b[0m df[\u001b[39m'\u001b[39m\u001b[39mnon_benign_prediction\u001b[39m\u001b[39m'\u001b[39m] \u001b[39m=\u001b[39m predictions\n\u001b[1;32m     69\u001b[0m df[\u001b[39m'\u001b[39m\u001b[39mnon_benign_score\u001b[39m\u001b[39m'\u001b[39m] \u001b[39m=\u001b[39m scores\n",
      "File \u001b[0;32m/mnt/windows/College/Graduation Project/Adversarial-Robustness/attack/tuning.py:25\u001b[0m, in \u001b[0;36mget_model_results\u001b[0;34m(imgs, onnx_model, ratio)\u001b[0m\n\u001b[1;32m     23\u001b[0m scores \u001b[39m=\u001b[39m []\n\u001b[1;32m     24\u001b[0m \u001b[39mfor\u001b[39;00m img \u001b[39min\u001b[39;00m imgs:\n\u001b[0;32m---> 25\u001b[0m     result \u001b[39m=\u001b[39m detect_sign(img, onnx_model, ratio)\n\u001b[1;32m     26\u001b[0m     \u001b[39mif\u001b[39;00m result \u001b[39mis\u001b[39;00m \u001b[39mnot\u001b[39;00m \u001b[39mNone\u001b[39;00m:\n\u001b[1;32m     27\u001b[0m         predictions\u001b[39m.\u001b[39mappend(result[\u001b[39m0\u001b[39m])\n",
      "File \u001b[0;32m/mnt/windows/College/Graduation Project/Adversarial-Robustness/attack/Inference.py:138\u001b[0m, in \u001b[0;36mdetect_sign\u001b[0;34m(img, model_path, ratio)\u001b[0m\n\u001b[1;32m    134\u001b[0m session \u001b[39m=\u001b[39m onnxruntime\u001b[39m.\u001b[39mInferenceSession(model_path)\n\u001b[1;32m    136\u001b[0m ort_inputs \u001b[39m=\u001b[39m {session\u001b[39m.\u001b[39mget_inputs()[\u001b[39m0\u001b[39m]\u001b[39m.\u001b[39mname: img[\u001b[39mNone\u001b[39;00m, :, :, :]}\n\u001b[0;32m--> 138\u001b[0m output \u001b[39m=\u001b[39m session\u001b[39m.\u001b[39;49mrun(\u001b[39mNone\u001b[39;49;00m, ort_inputs)\n\u001b[1;32m    139\u001b[0m predictions \u001b[39m=\u001b[39m demo_postprocess(output[\u001b[39m0\u001b[39m], [\u001b[39m640\u001b[39m, \u001b[39m640\u001b[39m])[\u001b[39m0\u001b[39m]\n\u001b[1;32m    141\u001b[0m boxes \u001b[39m=\u001b[39m predictions[:, :\u001b[39m4\u001b[39m]\n",
      "File \u001b[0;32m~/anaconda3/envs/adversarial-robustness/lib/python3.10/site-packages/onnxruntime/capi/onnxruntime_inference_collection.py:200\u001b[0m, in \u001b[0;36mSession.run\u001b[0;34m(self, output_names, input_feed, run_options)\u001b[0m\n\u001b[1;32m    198\u001b[0m     output_names \u001b[39m=\u001b[39m [output\u001b[39m.\u001b[39mname \u001b[39mfor\u001b[39;00m output \u001b[39min\u001b[39;00m \u001b[39mself\u001b[39m\u001b[39m.\u001b[39m_outputs_meta]\n\u001b[1;32m    199\u001b[0m \u001b[39mtry\u001b[39;00m:\n\u001b[0;32m--> 200\u001b[0m     \u001b[39mreturn\u001b[39;00m \u001b[39mself\u001b[39;49m\u001b[39m.\u001b[39;49m_sess\u001b[39m.\u001b[39;49mrun(output_names, input_feed, run_options)\n\u001b[1;32m    201\u001b[0m \u001b[39mexcept\u001b[39;00m C\u001b[39m.\u001b[39mEPFail \u001b[39mas\u001b[39;00m err:\n\u001b[1;32m    202\u001b[0m     \u001b[39mif\u001b[39;00m \u001b[39mself\u001b[39m\u001b[39m.\u001b[39m_enable_fallback:\n",
      "\u001b[0;31mKeyboardInterrupt\u001b[0m: "
     ]
    }
   ],
   "source": [
    "from tuning import tune_hyperparameters\n",
    "res = tune_hyperparameters(run_fgsm, model_path, np.asarray(imgs), df, r)"
   ]
  }
 ],
 "metadata": {
  "kernelspec": {
   "display_name": "Python 3.10.6 ('adversarial-robustness')",
   "language": "python",
   "name": "python3"
  },
  "language_info": {
   "codemirror_mode": {
    "name": "ipython",
    "version": 3
   },
   "file_extension": ".py",
   "mimetype": "text/x-python",
   "name": "python",
   "nbconvert_exporter": "python",
   "pygments_lexer": "ipython3",
   "version": "3.10.6"
  },
  "vscode": {
   "interpreter": {
    "hash": "88c509b39e0c3a3e2f67732870b552119c44df693a8bf62913bddb3d382563a4"
   }
  }
 },
 "nbformat": 4,
 "nbformat_minor": 5
}
